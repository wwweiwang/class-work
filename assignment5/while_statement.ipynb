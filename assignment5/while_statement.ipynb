{
 "cells": [
  {
   "cell_type": "code",
   "execution_count": 9,
   "metadata": {},
   "outputs": [
    {
     "name": "stdout",
     "output_type": "stream",
     "text": [
      "Please enter your score (between 0-100): 90\n",
      "A\n"
     ]
    }
   ],
   "source": [
    "# part B\n",
    "message = input('Please enter your score (between 0-100): ')\n",
    "\n",
    "score = int(message)\n",
    "while 0 <= score <=100:\n",
    "    if 90 <= score <= 100:\n",
    "        grade = \"A\"\n",
    "    elif 80 <= score < 90:\n",
    "        grade = \"B\"\n",
    "    elif 70 <= score < 79:\n",
    "        grade = \"C\"\n",
    "    elif 60 <= score < 69:\n",
    "        grade = \"D\"\n",
    "    else:\n",
    "        grade = \"NC\"\n",
    "    print (grade)\n",
    "    break"
   ]
  },
  {
   "cell_type": "code",
   "execution_count": 10,
   "metadata": {},
   "outputs": [
    {
     "name": "stdout",
     "output_type": "stream",
     "text": [
      "Let me see if I can find you a: honda\n",
      "honda\n"
     ]
    }
   ],
   "source": [
    "# 7-1\n",
    "message = input('Let me see if I can find you a: ')\n",
    "print (message)"
   ]
  },
  {
   "cell_type": "code",
   "execution_count": 11,
   "metadata": {},
   "outputs": [
    {
     "name": "stdout",
     "output_type": "stream",
     "text": [
      "How many are in your dinner group? 5\n",
      "Your table is ready.\n"
     ]
    }
   ],
   "source": [
    "# 7-2\n",
    "message = input('How many are in your dinner group? ')\n",
    "if int(message) > 8:\n",
    "    print (\"Please wait for a table.\")\n",
    "else:\n",
    "    print (\"Your table is ready.\")"
   ]
  },
  {
   "cell_type": "code",
   "execution_count": 12,
   "metadata": {},
   "outputs": [
    {
     "name": "stdout",
     "output_type": "stream",
     "text": [
      "Please type a number: 75\n",
      "75 is not a multiple of 10.\n"
     ]
    }
   ],
   "source": [
    "# 7-3\n",
    "\n",
    "message = input('Please type a number: ')\n",
    "if int(message) % 10 == 0:\n",
    "    print (message + \" is a multiple of 10.\")\n",
    "else:\n",
    "    print (message + \" is not a multiple of 10.\")"
   ]
  },
  {
   "cell_type": "code",
   "execution_count": 13,
   "metadata": {},
   "outputs": [
    {
     "name": "stdout",
     "output_type": "stream",
     "text": [
      "\n",
      "What topping do you want? \n",
      "(Enter 'quit' when you are finish.)fish\n",
      "I will add the fish for you.\n",
      "\n",
      "What topping do you want? \n",
      "(Enter 'quit' when you are finish.)pineapple\n",
      "I will add the pineapple for you.\n",
      "\n",
      "What topping do you want? \n",
      "(Enter 'quit' when you are finish.)quit\n",
      "Your pizza will be ready soon.\n"
     ]
    }
   ],
   "source": [
    "# 7-4\n",
    "\n",
    "prompt = \"\\nWhat topping do you want? \"\n",
    "prompt += \"\\n(Enter 'quit' when you are finish.)\"\n",
    "\n",
    "while True:\n",
    "    topping = input(prompt)\n",
    "    if topping != 'quit':\n",
    "        print (\"I will add the \" + topping + \" for you.\")\n",
    "    else:\n",
    "        print (\"Your pizza will be ready soon.\")\n",
    "        break"
   ]
  },
  {
   "cell_type": "code",
   "execution_count": 2,
   "metadata": {},
   "outputs": [
    {
     "name": "stdout",
     "output_type": "stream",
     "text": [
      "\n",
      "How old are you? \n",
      "(Enter 'quit' when you are finish.)20\n",
      "Your ticket price is $15.\n",
      "\n",
      "How old are you? \n",
      "(Enter 'quit' when you are finish.)11\n",
      "Your ticket price is $10.\n",
      "\n",
      "How old are you? \n",
      "(Enter 'quit' when you are finish.)2\n",
      "Your ticket is free.\n",
      "\n",
      "How old are you? \n",
      "(Enter 'quit' when you are finish.)quit\n",
      "Enjoy your movie!\n"
     ]
    }
   ],
   "source": [
    "# 7-5\n",
    "\n",
    "prompt = \"\\nHow old are you? \"\n",
    "prompt += \"\\n(Enter 'quit' when you are finish.)\"\n",
    "\n",
    "while True:\n",
    "    age = input(prompt)\n",
    "    if age == 'quit':\n",
    "        print (\"Enjoy your movie!\")\n",
    "        break\n",
    "    if int(age) < 3:\n",
    "        print (\"Your ticket is free.\")\n",
    "    elif 3 <= int(age) < 12:\n",
    "        print (\"Your ticket price is $10.\")\n",
    "    else:\n",
    "        print (\"Your ticket price is $15.\")\n"
   ]
  },
  {
   "cell_type": "code",
   "execution_count": 14,
   "metadata": {
    "scrolled": true
   },
   "outputs": [
    {
     "name": "stdout",
     "output_type": "stream",
     "text": [
      "\n",
      "What topping do you want? \n",
      "(Enter 'quit' when you are finish.)mashroom\n",
      "I will add the mashroom for you.\n",
      "\n",
      "What topping do you want? \n",
      "(Enter 'quit' when you are finish.)quit\n",
      "Your pizza will be ready soon.\n"
     ]
    }
   ],
   "source": [
    "# 7-6\n",
    "\n",
    "prompt = \"\\nWhat topping do you want? \"\n",
    "prompt += \"\\n(Enter 'quit' when you are finish.)\"\n",
    "\n",
    "active = True\n",
    "while active:\n",
    "    topping = input(prompt)\n",
    "    if topping == 'quit':\n",
    "        active = False\n",
    "        print (\"Your pizza will be ready soon.\")\n",
    "    else:\n",
    "        print (\"I will add the \" + topping + \" for you.\")\n"
   ]
  },
  {
   "cell_type": "code",
   "execution_count": null,
   "metadata": {},
   "outputs": [],
   "source": [
    "# 7-7\n",
    "prompt = \"\\nWhat topping do you want? \"\n",
    "\n",
    "while True:\n",
    "    topping = input(prompt)\n",
    "    print (\"I will add the \" + topping + \" for you.\")"
   ]
  },
  {
   "cell_type": "code",
   "execution_count": 3,
   "metadata": {},
   "outputs": [
    {
     "name": "stdout",
     "output_type": "stream",
     "text": [
      "I made your cheese sandwich.\n",
      "I made your tofu sandwich.\n",
      "I made your turkey sandwich.\n",
      "\n",
      "The following sandwiches have been made:\n",
      "cheese\n",
      "tofu\n",
      "turkey\n"
     ]
    }
   ],
   "source": [
    "# 7-8\n",
    "sandwich_orders = ['turkey', 'tofu', 'cheese']\n",
    "sandwiches_finished = []\n",
    "\n",
    "while sandwich_orders:\n",
    "    sandwich_finished = sandwich_orders.pop()\n",
    "    print (\"I made your \" + sandwich_finished + ' sandwich.')\n",
    "    sandwiches_finished.append(sandwich_finished)\n",
    "print (\"\\nThe following sandwiches have been made:\")\n",
    "for sandwich_finished in sandwiches_finished:\n",
    "    print (sandwich_finished)\n"
   ]
  },
  {
   "cell_type": "code",
   "execution_count": 4,
   "metadata": {},
   "outputs": [
    {
     "name": "stdout",
     "output_type": "stream",
     "text": [
      "['turkey', 'pastrami', 'pastrami', 'tofu', 'pastrami', 'cheese']\n",
      "['turkey', 'tofu', 'cheese']\n"
     ]
    }
   ],
   "source": [
    "# 7-9\n",
    "sandwich_orders = ['turkey', 'pastrami', 'pastrami', 'tofu', 'pastrami', 'cheese']\n",
    "print (sandwich_orders)\n",
    "\n",
    "while 'pastrami' in sandwich_orders:\n",
    "    sandwich_orders.remove('pastrami')\n",
    "\n",
    "print (sandwich_orders)\n"
   ]
  },
  {
   "cell_type": "code",
   "execution_count": 5,
   "metadata": {},
   "outputs": [
    {
     "name": "stdout",
     "output_type": "stream",
     "text": [
      "Please enter your name: wei\n",
      "Where do you want to go vacation? hawaii\n",
      "Would you like to let another people answer the question? yes/no yes\n",
      "Please enter your name: xiao\n",
      "Where do you want to go vacation? cancun\n",
      "Would you like to let another people answer the question? yes/no kong\n",
      "Please enter your name: kong\n",
      "Where do you want to go vacation? beijing\n",
      "Would you like to let another people answer the question? yes/no no\n",
      "Wei would like to go hawaii for vacation.\n",
      "Xiao would like to go cancun for vacation.\n",
      "Kong would like to go beijing for vacation.\n"
     ]
    }
   ],
   "source": [
    "# 7-10\n",
    "responses = {}\n",
    "poll_active = True\n",
    "while poll_active:\n",
    "    name = input(\"Please enter your name: \")\n",
    "    response = input (\"Where do you want to go vacation? \")\n",
    "    responses[name] = response\n",
    "\n",
    "    repeat = input(\"Would you like to let another people answer the question? yes/no \")\n",
    "    if repeat == 'no':\n",
    "        poll_active = False\n",
    "\n",
    "for name, response in responses.items():\n",
    "    print (name.title() + \" would like to go \" + response + \" for vacation.\")\n"
   ]
  },
  {
   "cell_type": "code",
   "execution_count": 6,
   "metadata": {},
   "outputs": [
    {
     "name": "stdout",
     "output_type": "stream",
     "text": [
      "In Chapter 8, I learnt Function.\n",
      "\n",
      "\n",
      "One of my favorite book is Three bodies .\n"
     ]
    }
   ],
   "source": [
    "# 8-1 & 8-2\n",
    "def display_message(chapter):\n",
    "    print (\"In \" + chapter + \", I learnt Function.\")\n",
    "\n",
    "display_message('Chapter 8')\n",
    "\n",
    "print (\"\\n\")\n",
    "def favorite_book(book):\n",
    "    print (\"One of my favorite book is \" + book + \" .\")\n",
    "\n",
    "favorite_book('Three bodies')\n"
   ]
  },
  {
   "cell_type": "code",
   "execution_count": 7,
   "metadata": {},
   "outputs": [
    {
     "name": "stdout",
     "output_type": "stream",
     "text": [
      "\n",
      " Print Dad on size: Large.\n",
      "\n",
      " Print Dad on size: Large.\n"
     ]
    }
   ],
   "source": [
    "# 8-3\n",
    "def make_shirt(size, message):\n",
    "    print (\"\\n Print \" + message + \" on size: \" + size + \".\")\n",
    "\n",
    "make_shirt('Large', 'Dad')\n",
    "\n",
    "make_shirt(size = 'Large', message = 'Dad')\n",
    "\n"
   ]
  },
  {
   "cell_type": "code",
   "execution_count": 9,
   "metadata": {},
   "outputs": [
    {
     "name": "stdout",
     "output_type": "stream",
     "text": [
      "\n",
      " Print I love Python on size: Large.\n",
      "\n",
      " Print I love Python on size: Medium.\n",
      "\n",
      " Print I love R on size: small.\n"
     ]
    }
   ],
   "source": [
    "# 8-4\n",
    "def make_shirt(size, message = 'I love Python'):\n",
    "    print (\"\\n Print \" + message + \" on size: \" + size + \".\")\n",
    "\n",
    "make_shirt('Large')\n",
    "make_shirt('Medium')\n",
    "make_shirt('small', 'I love R')"
   ]
  },
  {
   "cell_type": "code",
   "execution_count": 11,
   "metadata": {},
   "outputs": [
    {
     "name": "stdout",
     "output_type": "stream",
     "text": [
      "\n",
      "Seattle is in USA.\n",
      "\n",
      "Kirkland is in USA.\n",
      "\n",
      "Beijing is in China.\n"
     ]
    }
   ],
   "source": [
    "# 8-5\n",
    "def describe_city(city, country = 'USA'):\n",
    "    print (\"\\n\" + city + \" is in \" + country + \".\")\n",
    "\n",
    "describe_city('Seattle')\n",
    "describe_city('Kirkland')\n",
    "describe_city('Beijing', 'China')"
   ]
  },
  {
   "cell_type": "code",
   "execution_count": 19,
   "metadata": {},
   "outputs": [
    {
     "name": "stdout",
     "output_type": "stream",
     "text": [
      "\n",
      "Seattle, Usa\n",
      "\n",
      "Kirkland, Usa\n",
      "\n",
      "Beijing, China\n"
     ]
    }
   ],
   "source": [
    "# 8-6\n",
    "\n",
    "    \n",
    "def location(city, country):\n",
    "    return \"\\n\" + city.title() + \", \" + country.title()\n",
    "\n",
    "print(location('seattle', 'USA'))\n",
    "print(location('kirkland', 'USA'))\n",
    "print(location('beijing', 'china'))"
   ]
  },
  {
   "cell_type": "code",
   "execution_count": 4,
   "metadata": {},
   "outputs": [
    {
     "name": "stdout",
     "output_type": "stream",
     "text": [
      "{'artist': 'Cardi B', 'title': 'Invasion of Privacy'}\n",
      "{'artist': 'Kacey Musgraves', 'title': 'Golden Hour'}\n",
      "{'artist': 'Camila Cabello', 'title': 'Camila'}\n"
     ]
    }
   ],
   "source": [
    "# 8-7\n",
    "def make_album(artist_name, album_title):\n",
    "    albums = {'artist': artist_name, 'title': album_title}\n",
    "    return albums\n",
    "\n",
    "print(make_album('Cardi B', 'Invasion of Privacy'))\n",
    "print(make_album('Kacey Musgraves', 'Golden Hour'))\n",
    "print(make_album('Camila Cabello', 'Camila'))\n",
    "\n",
    "\n",
    "\n",
    "\n",
    "    "
   ]
  },
  {
   "cell_type": "code",
   "execution_count": 7,
   "metadata": {},
   "outputs": [
    {
     "name": "stdout",
     "output_type": "stream",
     "text": [
      "{'artist': 'Cardi B', 'title': 'Invasion of Privacy', 'track': ''}\n",
      "{'artist': 'Kacey Musgraves', 'title': 'Golden Hour', 'track': '10', 'track_number': '10'}\n"
     ]
    }
   ],
   "source": [
    "# 8-7\n",
    "def make_album(artist_name, album_title, track_number=''):\n",
    "    albums = {'artist': artist_name, 'title': album_title, 'track': track_number}\n",
    "    if track_number:\n",
    "        albums['track_number'] = track_number\n",
    "    return albums\n",
    "\n",
    "a = make_album('Cardi B', 'Invasion of Privacy')\n",
    "print(a)\n",
    "b = make_album('Kacey Musgraves', 'Golden Hour', '10')\n",
    "print(b)"
   ]
  },
  {
   "cell_type": "code",
   "execution_count": 4,
   "metadata": {},
   "outputs": [
    {
     "name": "stdout",
     "output_type": "stream",
     "text": [
      "\n",
      "Please enter an artist name: \n",
      "enter 'quit' when you are done.Cardi B\n",
      "Please enter her/his album title: \n",
      "enter 'quit' when you are done.Invasion of Privacy\n",
      "{'artist': 'Cardi B', 'title': 'Invasion of Privacy'}\n",
      "\n",
      "Please enter an artist name: \n",
      "enter 'quit' when you are done.Kacey Musgraves\n",
      "Please enter her/his album title: \n",
      "enter 'quit' when you are done.Golden Hour\n",
      "{'artist': 'Kacey Musgraves', 'title': 'Golden Hour'}\n",
      "\n",
      "Please enter an artist name: \n",
      "enter 'quit' when you are done.quit\n"
     ]
    }
   ],
   "source": [
    "# 8-8\n",
    "def make_album(artist_name, album_title):\n",
    "    albums = {'artist': artist_name, 'title': album_title}\n",
    "    return albums\n",
    "\n",
    "prompt1 = \"\\nPlease enter an artist name: \"\n",
    "prompt1 += \"\\nenter 'quit' when you are done.\"\n",
    "\n",
    "prompt2 = \"Please enter her/his album title: \"\n",
    "prompt2 += \"\\nenter 'quit' when you are done.\"\n",
    "\n",
    "while True:\n",
    "    user_name = input(prompt1)\n",
    "    if user_name == 'quit':\n",
    "        break\n",
    "    user_title = input(prompt2)\n",
    "    if user_title == 'quit':\n",
    "        break\n",
    "    else:\n",
    "        user_albums = make_album(user_name, user_title)\n",
    "        print(user_albums)"
   ]
  },
  {
   "cell_type": "code",
   "execution_count": 6,
   "metadata": {},
   "outputs": [
    {
     "name": "stdout",
     "output_type": "stream",
     "text": [
      "David Blaine\n",
      "Lance Burton\n",
      "Shin Lim\n",
      "David Devant\n"
     ]
    }
   ],
   "source": [
    "# 8-9\n",
    "def show_magicians(names):\n",
    "    for name in names:\n",
    "        print(name)\n",
    "        \n",
    "\n",
    "        \n",
    "magicians = ['David Blaine', 'Lance Burton', 'Shin Lim', 'David Devant']\n",
    "show_magicians(magicians)\n"
   ]
  },
  {
   "cell_type": "code",
   "execution_count": 12,
   "metadata": {},
   "outputs": [
    {
     "name": "stdout",
     "output_type": "stream",
     "text": [
      "the Great David Devant\n",
      "the Great Shin Lim\n",
      "the Great Lance Burton\n",
      "the Great David Blaine\n",
      "[]\n"
     ]
    }
   ],
   "source": [
    "# 8-10\n",
    "\n",
    "def show_magicians(names):\n",
    "    for name in names:\n",
    "        print(name)\n",
    "        \n",
    "def make_great(names, new_names):\n",
    "    while names:\n",
    "        current_name = names.pop()\n",
    "        new_names.append(\"the Great \" + current_name)\n",
    "        \n",
    "magicians = ['David Blaine', 'Lance Burton', 'Shin Lim', 'David Devant']\n",
    "great_magicians = []\n",
    "\n",
    "make_great(magicians, great_magicians)\n",
    "\n",
    "show_magicians(magicians)\n",
    "show_magicians(great_magicians)\n",
    "\n",
    "print(magicians)\n",
    "        "
   ]
  },
  {
   "cell_type": "code",
   "execution_count": 19,
   "metadata": {},
   "outputs": [
    {
     "name": "stdout",
     "output_type": "stream",
     "text": [
      "David Blaine\n",
      "Lance Burton\n",
      "Shin Lim\n",
      "David Devant\n",
      "\n",
      "\n",
      "the Great David Devant\n",
      "the Great Shin Lim\n",
      "the Great Lance Burton\n",
      "the Great David Blaine\n",
      "\n",
      "\n",
      "['David Blaine', 'Lance Burton', 'Shin Lim', 'David Devant']\n"
     ]
    }
   ],
   "source": [
    "# 8-11\n",
    "\n",
    "def show_magicians(names):\n",
    "    for name in names:\n",
    "        print(name)\n",
    "        \n",
    "def make_great(names, new_names):\n",
    "    while names:\n",
    "        current_name = names.pop()\n",
    "        new_names.append(\"the Great \" + current_name)\n",
    "        \n",
    "magicians = ['David Blaine', 'Lance Burton', 'Shin Lim', 'David Devant']\n",
    "great_magicians = []\n",
    "\n",
    "make_great(magicians[:], great_magicians)\n",
    "\n",
    "show_magicians(magicians)\n",
    "print(\"\\n\")\n",
    "show_magicians(great_magicians)\n",
    "print(\"\\n\")\n",
    "print(magicians)\n",
    "        "
   ]
  },
  {
   "cell_type": "code",
   "execution_count": 22,
   "metadata": {},
   "outputs": [
    {
     "name": "stdout",
     "output_type": "stream",
     "text": [
      "('turkey',)\n",
      "('turkey', 'tomato')\n",
      "('turkey', 'tomato', 'cheese')\n"
     ]
    }
   ],
   "source": [
    "# 8-11\n",
    "def sandwich(*topping):\n",
    "    print(topping)\n",
    "\n",
    "sandwich('turkey')\n",
    "sandwich('turkey', 'tomato')\n",
    "sandwich('turkey', 'tomato', 'cheese')"
   ]
  },
  {
   "cell_type": "code",
   "execution_count": 25,
   "metadata": {},
   "outputs": [
    {
     "name": "stdout",
     "output_type": "stream",
     "text": [
      "{'first_name': 'Wei', 'last_name': 'Wang', 'location': 'Kirkland', 'field': 'MSIM'}\n"
     ]
    }
   ],
   "source": [
    "# 8-12\n",
    "def build_profile(first, last, **user_info):\n",
    "\n",
    "    profile = {}\n",
    "    profile['first_name'] = first\n",
    "    profile['last_name'] = last\n",
    "    for key, value in user_info.items():\n",
    "        profile[key] = value\n",
    "    return profile\n",
    "\n",
    "user_profile = build_profile('Wei', 'Wang',\n",
    "                                location='Kirkland',\n",
    "                                field='MSIM')\n",
    "print(user_profile)"
   ]
  },
  {
   "cell_type": "code",
   "execution_count": 26,
   "metadata": {},
   "outputs": [
    {
     "name": "stdout",
     "output_type": "stream",
     "text": [
      "{'manufacturer_name': 'VW', 'model_name': 'GTI', 'color': 'black', 'year': '2015'}\n"
     ]
    }
   ],
   "source": [
    "# 8-13\n",
    "def build_profile(manufacturer, model, **car_info):\n",
    "\n",
    "    profile = {}\n",
    "    profile['manufacturer_name'] = manufacturer\n",
    "    profile['model_name'] = model\n",
    "    for key, value in car_info.items():\n",
    "        profile[key] = value\n",
    "    return profile\n",
    "\n",
    "car_profile = build_profile('VW', 'GTI',\n",
    "                                color='black',\n",
    "                                year='2015')\n",
    "print(car_profile)"
   ]
  },
  {
   "cell_type": "code",
   "execution_count": 27,
   "metadata": {},
   "outputs": [
    {
     "name": "stdout",
     "output_type": "stream",
     "text": [
      "{'manufacturer_name': 'VW', 'model_name': 'GTI', 'color': 'black', 'year': '2015'}\n",
      "{'manufacturer_name': 'VW', 'model_name': 'GTI', 'color': 'black', 'year': '2015'}\n"
     ]
    }
   ],
   "source": [
    "import cars\n",
    "\n",
    "car_profile = build_profile('VW', 'GTI',\n",
    "                                color='black',\n",
    "                                year='2015')\n",
    "print(car_profile)"
   ]
  },
  {
   "cell_type": "code",
   "execution_count": null,
   "metadata": {},
   "outputs": [],
   "source": [
    "import magician.show_magicians()\n",
    "import magician.make_great() as great()\n",
    "import cars as cars_profile "
   ]
  }
 ],
 "metadata": {
  "kernelspec": {
   "display_name": "Python 3",
   "language": "python",
   "name": "python3"
  },
  "language_info": {
   "codemirror_mode": {
    "name": "ipython",
    "version": 3
   },
   "file_extension": ".py",
   "mimetype": "text/x-python",
   "name": "python",
   "nbconvert_exporter": "python",
   "pygments_lexer": "ipython3",
   "version": "3.7.0"
  }
 },
 "nbformat": 4,
 "nbformat_minor": 2
}
