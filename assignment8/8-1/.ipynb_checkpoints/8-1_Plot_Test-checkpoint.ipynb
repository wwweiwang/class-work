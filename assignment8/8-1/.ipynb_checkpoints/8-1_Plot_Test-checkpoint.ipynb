{
 "cells": [
  {
   "cell_type": "markdown",
   "metadata": {},
   "source": [
    "# 8-1_Plot_Test\n",
    "This example shows how to \n",
    "1. Remove commas from our CSV data\n",
    "2. Use our Months as our Horizontal axis labels - otherwise you get 0, 1, 2...\n",
    "2. How to add a simple title\n",
    "2. Alternative plot method allowing more options for title and labels\n",
    "3. Various bar plot \"kinds\""
   ]
  },
  {
   "cell_type": "code",
   "execution_count": null,
   "metadata": {
    "collapsed": true
   },
   "outputs": [],
   "source": [
    "# Start pandas and matplotlib - don't forget the % or inline\n",
    "import pandas as pd\n",
    "%matplotlib inline"
   ]
  },
  {
   "cell_type": "code",
   "execution_count": null,
   "metadata": {
    "collapsed": true
   },
   "outputs": [],
   "source": [
    "# First attempt at creating dataframe. Note commas. Try plotting with df.plot()\n",
    "df = pd.read_csv('8-1_Multi.csv')\n",
    "df"
   ]
  },
  {
   "cell_type": "code",
   "execution_count": null,
   "metadata": {
    "collapsed": true
   },
   "outputs": [],
   "source": [
    "# matplotlib doesn't like the , in our csv file. The , thousands=',' will remove it. Try plotting with df.plot()\n",
    "df = pd.read_csv('8-1_Multi.csv', thousands=',')\n",
    "df"
   ]
  },
  {
   "cell_type": "code",
   "execution_count": null,
   "metadata": {},
   "outputs": [],
   "source": [
    "# Adding the index_col=0 option tells it to use our Months as the Index - they then end up as our horizontal axis labels\n",
    "df = pd.read_csv('8-1_Multi.csv', index_col=0, thousands=',')\n",
    "df"
   ]
  },
  {
   "cell_type": "code",
   "execution_count": null,
   "metadata": {
    "collapsed": true
   },
   "outputs": [],
   "source": [
    "df.plot()"
   ]
  },
  {
   "cell_type": "code",
   "execution_count": null,
   "metadata": {},
   "outputs": [],
   "source": [
    "# to produce a bar (column) chart. ; at end gets rid of plot code at the top\n",
    "df.plot(kind = 'bar');"
   ]
  },
  {
   "cell_type": "code",
   "execution_count": null,
   "metadata": {},
   "outputs": [],
   "source": [
    "# to add a simple title\n",
    "df.plot(kind = 'bar', title = \"2017 sales\");"
   ]
  },
  {
   "cell_type": "code",
   "execution_count": null,
   "metadata": {},
   "outputs": [],
   "source": [
    "# alternative method for adding title and labels with option of setting fontsize and color. Could be used on any of the others.  \n",
    "p = df.plot(kind = 'bar');\n",
    "p.set_title('2017 Sales', fontsize=24, color = 'Purple');\n",
    "p.set_ylabel('Units Sold', fontsize=12, color = 'blue');\n",
    "p.set_xlabel('Month', fontsize=12, color = 'green');"
   ]
  },
  {
   "cell_type": "code",
   "execution_count": null,
   "metadata": {},
   "outputs": [],
   "source": [
    "# to produce a stacked bar chart.\n",
    "df.plot(kind = 'bar', stacked=True);"
   ]
  },
  {
   "cell_type": "code",
   "execution_count": null,
   "metadata": {},
   "outputs": [],
   "source": [
    "# to produce a stacked bar chart.\n",
    "df.plot(kind = 'bar', stacked=True);"
   ]
  },
  {
   "cell_type": "code",
   "execution_count": null,
   "metadata": {
    "collapsed": true
   },
   "outputs": [],
   "source": [
    "# to produce a horizontal bar chart.\n",
    "df.plot(kind = 'barh');"
   ]
  },
  {
   "cell_type": "code",
   "execution_count": null,
   "metadata": {
    "collapsed": true
   },
   "outputs": [],
   "source": [
    "# to produce a horizontal stacked bar chart.\n",
    "df.plot(kind = 'barh', stacked=True);"
   ]
  },
  {
   "cell_type": "code",
   "execution_count": null,
   "metadata": {},
   "outputs": [],
   "source": [
    "# To produce an area chart\n",
    "df.plot(kind = 'area');"
   ]
  },
  {
   "cell_type": "code",
   "execution_count": null,
   "metadata": {
    "collapsed": true
   },
   "outputs": [],
   "source": [
    "# Creating a dataframe for our pie chart - remember to get rid of the commas\n",
    "df2 = pd.read_csv('8-1_Pie.csv', index_col=0, thousands=',')\n",
    "df2"
   ]
  },
  {
   "cell_type": "code",
   "execution_count": null,
   "metadata": {
    "collapsed": true
   },
   "outputs": [],
   "source": [
    "# You need to add the subplots = true option to get a pie chart\n",
    "df2.plot.pie(subplots=True);"
   ]
  }
 ],
 "metadata": {
  "kernelspec": {
   "display_name": "Python 3",
   "language": "python",
   "name": "python3"
  },
  "language_info": {
   "codemirror_mode": {
    "name": "ipython",
    "version": 3
   },
   "file_extension": ".py",
   "mimetype": "text/x-python",
   "name": "python",
   "nbconvert_exporter": "python",
   "pygments_lexer": "ipython3",
   "version": "3.6.2+"
  }
 },
 "nbformat": 4,
 "nbformat_minor": 2
}
