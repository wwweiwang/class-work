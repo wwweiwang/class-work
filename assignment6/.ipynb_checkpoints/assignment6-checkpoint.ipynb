{
 "cells": [
  {
   "cell_type": "code",
   "execution_count": 9,
   "metadata": {},
   "outputs": [
    {
     "name": "stdout",
     "output_type": "stream",
     "text": [
      "dongtingchun is a chinese restaurant.\n",
      "dongtingchun is open.\n",
      "\n",
      "\n",
      "stone is a korean restaurant.\n",
      "stone is open.\n",
      "\n",
      "\n",
      "homegrown is a american restaurant.\n",
      "homegrown is open.\n"
     ]
    }
   ],
   "source": [
    "# 9-1 & 9-2\n",
    "class Restaurant():\n",
    "    def __init__(self, restaurant_name, restaurant_type):\n",
    "        self.restaurant_name = restaurant_name\n",
    "        self.restaurant_type = restaurant_type\n",
    "    \n",
    "    def describe_restaurant(self):\n",
    "        print(self.restaurant_name + \" is a \" + self.restaurant_type + \" restaurant.\")\n",
    "    \n",
    "    \n",
    "    def open_restaurant(self):\n",
    "        print(self.restaurant_name + \" is open.\")\n",
    "\n",
    "my_restaurant = Restaurant('dongtingchun', 'chinese')\n",
    "my_restaurant.describe_restaurant()\n",
    "my_restaurant.open_restaurant()\n",
    "\n",
    "print(\"\\n\")\n",
    "your_restaurant = Restaurant('stone', 'korean')\n",
    "your_restaurant.describe_restaurant()\n",
    "your_restaurant.open_restaurant()\n",
    "\n",
    "print(\"\\n\")\n",
    "her_restaurant = Restaurant('homegrown', 'american')\n",
    "her_restaurant.describe_restaurant()\n",
    "her_restaurant.open_restaurant()"
   ]
  },
  {
   "cell_type": "code",
   "execution_count": 11,
   "metadata": {},
   "outputs": [
    {
     "name": "stdout",
     "output_type": "stream",
     "text": [
      "Current user is Wei Wang\n",
      "hello Wei Wang!\n",
      "\n",
      "\n",
      "Current user is Xiao Wu\n",
      "hello Xiao Wu!\n",
      "\n",
      "\n",
      "Current user is Kong Wu\n",
      "hello Kong Wu!\n"
     ]
    }
   ],
   "source": [
    "# 9-3\n",
    "\n",
    "class user():\n",
    "    def __init__(self, first_name, last_name):\n",
    "        self.first_name = first_name\n",
    "        self.last_name = last_name\n",
    "    \n",
    "    def user_name(self):\n",
    "        print(\"Current user is \" + self.first_name + \" \" + self.last_name)\n",
    "    \n",
    "    \n",
    "    def greeting(self):\n",
    "        print(\"hello \" + self.first_name + \" \" + self.last_name + \"!\")\n",
    "\n",
    "user1 = user('Wei', 'Wang')\n",
    "user1.user_name()\n",
    "user1.greeting()\n",
    "\n",
    "print(\"\\n\")\n",
    "user2 = user('Xiao', 'Wu')\n",
    "user2.user_name()\n",
    "user2.greeting()\n",
    "\n",
    "print(\"\\n\")\n",
    "user3 = user('Kong', 'Wu')\n",
    "user3.user_name()\n",
    "user3.greeting()"
   ]
  },
  {
   "cell_type": "code",
   "execution_count": 33,
   "metadata": {},
   "outputs": [
    {
     "name": "stdout",
     "output_type": "stream",
     "text": [
      "dongtingchun is a chinese restaurant.\n",
      "dongtingchun is open.\n",
      "Today it served 12 people.\n"
     ]
    }
   ],
   "source": [
    "# 9-4\n",
    "class Restaurant():\n",
    "    def __init__(self, restaurant_name, restaurant_type):\n",
    "        self.restaurant_name = restaurant_name\n",
    "        self.restaurant_type = restaurant_type\n",
    "        self.number_served = 0\n",
    "    \n",
    "    def describe_restaurant(self):\n",
    "        print(self.restaurant_name + \" is a \" + self.restaurant_type + \" restaurant.\")\n",
    "    \n",
    "    def served(self):\n",
    "        print(\"Today it served \" + str(self.number_served) + \" people.\")\n",
    "    \n",
    "    \n",
    "    def open_restaurant(self):\n",
    "        print(self.restaurant_name + \" is open.\")\n",
    "    \n",
    "    def number_served(self, number):\n",
    "        self.served = number\n",
    "\n",
    "my_restaurant = Restaurant('dongtingchun', 'chinese')\n",
    "my_restaurant.describe_restaurant()\n",
    "my_restaurant.open_restaurant()\n",
    "my_restaurant.number_served = 12\n",
    "my_restaurant.served()"
   ]
  },
  {
   "cell_type": "code",
   "execution_count": 21,
   "metadata": {},
   "outputs": [
    {
     "name": "stdout",
     "output_type": "stream",
     "text": [
      "dongtingchun is a chinese restaurant.\n",
      "dongtingchun is open.\n",
      "Today it served 0 people.\n"
     ]
    }
   ],
   "source": [
    "# 9-4\n",
    "class Restaurant():\n",
    "    def __init__(self, restaurant_name, restaurant_type):\n",
    "        self.restaurant_name = restaurant_name\n",
    "        self.restaurant_type = restaurant_type\n",
    "        self.number_served = 0\n",
    "    \n",
    "    def describe_restaurant(self):\n",
    "        print(self.restaurant_name + \" is a \" + self.restaurant_type + \" restaurant.\")\n",
    "    \n",
    "    def served(self):\n",
    "        print(\"Today it served \" + str(self.number_served) + \" people.\")\n",
    "    \n",
    "    \n",
    "    def open_restaurant(self):\n",
    "        print(self.restaurant_name + \" is open.\")\n",
    "\n",
    "my_restaurant = Restaurant('dongtingchun', 'chinese')\n",
    "my_restaurant.describe_restaurant()\n",
    "my_restaurant.open_restaurant()\n",
    "my_restaurant.served()"
   ]
  },
  {
   "cell_type": "code",
   "execution_count": 35,
   "metadata": {},
   "outputs": [
    {
     "name": "stdout",
     "output_type": "stream",
     "text": [
      "dongtingchun is a chinese restaurant.\n",
      "dongtingchun is open.\n",
      "Today it served 12 people.\n"
     ]
    }
   ],
   "source": [
    "# 9-4\n",
    "class Restaurant():\n",
    "    def __init__(self, restaurant_name, restaurant_type):\n",
    "        self.restaurant_name = restaurant_name\n",
    "        self.restaurant_type = restaurant_type\n",
    "        self.number_served = 0\n",
    "    \n",
    "    def describe_restaurant(self):\n",
    "        print(self.restaurant_name + \" is a \" + self.restaurant_type + \" restaurant.\")\n",
    "    \n",
    "    def served(self):\n",
    "        print(\"Today it served \" + str(self.number_served) + \" people.\")\n",
    "    \n",
    "    \n",
    "    def open_restaurant(self):\n",
    "        print(self.restaurant_name + \" is open.\")\n",
    "    \n",
    "    def new_number(self, number):\n",
    "        self.number_served = number\n",
    "\n",
    "my_restaurant = Restaurant('dongtingchun', 'chinese')\n",
    "my_restaurant.describe_restaurant()\n",
    "my_restaurant.open_restaurant()\n",
    "my_restaurant.new_number(12)\n",
    "my_restaurant.served()"
   ]
  },
  {
   "cell_type": "code",
   "execution_count": 38,
   "metadata": {},
   "outputs": [
    {
     "name": "stdout",
     "output_type": "stream",
     "text": [
      "Current user is Wei Wang\n",
      "hello Wei Wang!\n",
      "You have logined 0 times.\n"
     ]
    }
   ],
   "source": [
    "# 9-5\n",
    "\n",
    "class user():\n",
    "    def __init__(self, first_name, last_name):\n",
    "        self.first_name = first_name\n",
    "        self.last_name = last_name\n",
    "        self.login_attempts = 0\n",
    "    \n",
    "    def user_name(self):\n",
    "        print(\"Current user is \" + self.first_name + \" \" + self.last_name)\n",
    "    \n",
    "    \n",
    "    def greeting(self):\n",
    "        print(\"hello \" + self.first_name + \" \" + self.last_name + \"!\")\n",
    "        \n",
    "    def increment_login_attempts(self):\n",
    "        attempts = self.login_attempts += 1\n",
    "    \n",
    "    def attempts(self):\n",
    "        print(\"You have logined \" + str(self.login_attempts) + \" times.\")\n",
    "        \n",
    "user1 = user('Wei', 'Wang')\n",
    "user1.user_name()\n",
    "user1.greeting()\n",
    "user1.attempts()\n"
   ]
  },
  {
   "cell_type": "code",
   "execution_count": 3,
   "metadata": {},
   "outputs": [
    {
     "name": "stdout",
     "output_type": "stream",
     "text": [
      "Current user is Wei Wang\n",
      "hello Wei Wang!\n",
      "You have logined 1 times.\n",
      "You have logined 2 times.\n",
      "You have logined 3 times.\n",
      "You have logined 4 times.\n",
      "You have logined 5 times.\n",
      "You have logined 6 times.\n",
      "You have logined 7 times.\n",
      "You have logined 8 times.\n",
      "You have logined 9 times.\n",
      "You have logined 10 times.\n",
      "You have logined 0 times.\n"
     ]
    }
   ],
   "source": [
    "# 9-5\n",
    "\n",
    "class user():\n",
    "    def __init__(self, first_name, last_name):\n",
    "        self.first_name = first_name\n",
    "        self.last_name = last_name\n",
    "        self.login_attempts = 0 \n",
    "    \n",
    "    def user_name(self):\n",
    "        print(\"Current user is \" + self.first_name + \" \" + self.last_name)\n",
    "    \n",
    "    \n",
    "    def greeting(self):\n",
    "        print(\"hello \" + self.first_name + \" \" + self.last_name + \"!\")\n",
    "\n",
    "        \n",
    "    def increment_login_attempts(self):\n",
    "       self.login_attempts += 1\n",
    "    \n",
    "    def attempts(self):\n",
    "        print(\"You have logined \" + str(self.login_attempts) + \" times.\")\n",
    "    \n",
    "    def reset_login_attempts(self):\n",
    "        self.login_attempts = 0\n",
    "    \n",
    "user1 = user('Wei', 'Wang')\n",
    "user1.user_name()\n",
    "user1.greeting()\n",
    "\n",
    "login_count = 0\n",
    "while login_count < 10:\n",
    "    user1.increment_login_attempts()\n",
    "    user1.attempts()\n",
    "    login_count += 1\n",
    "user1.reset_login_attempts()\n",
    "user1.attempts()"
   ]
  },
  {
   "cell_type": "code",
   "execution_count": 10,
   "metadata": {},
   "outputs": [
    {
     "name": "stdout",
     "output_type": "stream",
     "text": [
      "coldstone is a icecream restaurant.\n",
      "coldstone is open.\n",
      "The most popular flavor is cheesecake\n"
     ]
    }
   ],
   "source": [
    "# 9-6\n",
    "\n",
    "class Restaurant():\n",
    "    def __init__(self, restaurant_name, restaurant_type):\n",
    "        self.restaurant_name = restaurant_name\n",
    "        self.restaurant_type = restaurant_type\n",
    "        self.number_served = 0\n",
    "    \n",
    "    def describe_restaurant(self):\n",
    "        print(self.restaurant_name + \" is a \" + self.restaurant_type + \" restaurant.\")\n",
    "    \n",
    "    def served(self):\n",
    "        print(\"Today it served \" + str(self.number_served) + \" people.\")\n",
    "    \n",
    "    \n",
    "    def open_restaurant(self):\n",
    "        print(self.restaurant_name + \" is open.\")\n",
    "    \n",
    "    def number_served(self, number):\n",
    "        self.served = number\n",
    "\n",
    "class IceCreamStand(Restaurant):\n",
    "    def __init__(self, restaurant_name, restaurant_type, flavor):\n",
    "        super().__init__(restaurant_name, restaurant_type)\n",
    "        self.flavor = flavor\n",
    "    \n",
    "    def describe_flavor(self):\n",
    "        print(\"The most popular flavor is \" + self.flavor)\n",
    "        \n",
    "one_IceCreamStand = IceCreamStand('coldstone', 'icecream', 'cheesecake')\n",
    "one_IceCreamStand.describe_restaurant()\n",
    "one_IceCreamStand.open_restaurant()\n",
    "one_IceCreamStand.describe_flavor()\n",
    "\n",
    "\n",
    "        "
   ]
  },
  {
   "cell_type": "code",
   "execution_count": 15,
   "metadata": {},
   "outputs": [
    {
     "name": "stdout",
     "output_type": "stream",
     "text": [
      "Current user is Wei Wang\n",
      "hello Wei Wang!\n",
      "Wei can delete post\n"
     ]
    }
   ],
   "source": [
    "# 9-7\n",
    "class user():\n",
    "    def __init__(self, first_name, last_name):\n",
    "        self.first_name = first_name\n",
    "        self.last_name = last_name\n",
    "    \n",
    "    def user_name(self):\n",
    "        print(\"Current user is \" + self.first_name + \" \" + self.last_name)\n",
    "    \n",
    "    \n",
    "    def greeting(self):\n",
    "        print(\"hello \" + self.first_name + \" \" + self.last_name + \"!\")\n",
    "        \n",
    "class admin(user):\n",
    "    def __init__(self, first_name, last_name):\n",
    "        super().__init__(first_name, last_name)\n",
    "        self.privileges = \"can delete post\"\n",
    "    \n",
    "    def show_privileges(self):\n",
    "        print(self.first_name + \" \" + self.privileges)\n",
    "        \n",
    "admin1 = admin('Wei', 'Wang')\n",
    "admin1.user_name()\n",
    "admin1.greeting()\n",
    "admin1.show_privileges()"
   ]
  },
  {
   "cell_type": "code",
   "execution_count": 41,
   "metadata": {},
   "outputs": [
    {
     "name": "stdout",
     "output_type": "stream",
     "text": [
      "Wei privileges:\n",
      "['can add post', 'can delete post']\n",
      "Xiao privileges:\n",
      "['can add post', 'can delete post', 'can ban user']\n"
     ]
    }
   ],
   "source": [
    "class user():\n",
    "    def __init__(self, first_name, last_name):\n",
    "        self.first_name = first_name\n",
    "        self.last_name = last_name\n",
    "    \n",
    "    def user_name(self):\n",
    "        print(\"Current user is \" + self.first_name + \" \" + self.last_name)\n",
    "    \n",
    "    \n",
    "    def greeting(self):\n",
    "        print(\"hello \" + self.first_name + \" \" + self.last_name + \"!\")\n",
    "        \n",
    "class admin(user):\n",
    "    def __init__(self, first_name, last_name, privileges=[\"can add post\", \"can delete post\", \"can ban user\"]):\n",
    "        super().__init__(first_name, last_name)\n",
    "        self.admin_privilege = Privileges(privileges)\n",
    "    \n",
    "    def show_privileges(self):\n",
    "        print(self.first_name + \" privileges:\")\n",
    "        print(self.admin_privilege.get_privilieges())\n",
    "        \n",
    "        \n",
    "class Privileges():\n",
    "    privilieges = [\"can add post\", \"can delete post\", \"can ban user\"]\n",
    "    \n",
    "    def __init__(self, privileges):\n",
    "        self.privilieges = privileges.copy()\n",
    "    \n",
    "    \n",
    "    def get_privilieges(self):\n",
    "        return self.privilieges\n",
    "    \n",
    "        \n",
    "user1 = admin('Wei', 'Wang', [\"can add post\", \"can delete post\"])\n",
    "user1.show_privileges()\n",
    "        \n",
    "user2 = admin('Xiao', 'Wu')\n",
    "user2.show_privileges()\n",
    "    "
   ]
  },
  {
   "cell_type": "code",
   "execution_count": null,
   "metadata": {},
   "outputs": [],
   "source": [
    "# 9-9"
   ]
  },
  {
   "cell_type": "code",
   "execution_count": 50,
   "metadata": {},
   "outputs": [
    {
     "name": "stdout",
     "output_type": "stream",
     "text": [
      "2016 Tesla Model S\n",
      "This car has a 70-kWh battery.\n",
      "This car can go approximately 240 miles on a full charge.\n",
      "This car can go approximately 270 miles on a full charge.\n"
     ]
    }
   ],
   "source": [
    "class Car():\n",
    "    def __init__(self, make, model, year):\n",
    "        self.make = make\n",
    "        self.model = model\n",
    "        self.year = year\n",
    "        self.odometer_reading = 0\n",
    "\n",
    "    def get_descriptive_name(self):\n",
    "        long_name = str(self.year) + ' ' + self.make + ' ' + self.model\n",
    "        return long_name.title()\n",
    "\n",
    "    def read_odometer(self):\n",
    "        print(\"This car has \" + str(self.odometer_reading) + \" miles on it.\")\n",
    "\n",
    "    def update_odometer(self, mileage):\n",
    "        if mileage >= self.odometer_reading:\n",
    "            self.odometer_reading = mileage\n",
    "        else:\n",
    "            print(\"You can't roll back an odometer!\")\n",
    "\n",
    "    def increment_odometer(self, miles):\n",
    "        self.odometer_reading += miles\n",
    "\n",
    "\n",
    "class Battery():\n",
    "\n",
    "    def __init__(self, battery_size=70):\n",
    "        self.battery_size = battery_size\n",
    "\n",
    "    def describe_battery(self):\n",
    "        print(\"This car has a \" + str(self.battery_size) + \"-kWh battery.\")\n",
    "        \n",
    "    def get_range(self):\n",
    "        if self.battery_size == 70:\n",
    "            range = 240\n",
    "        elif self.battery_size == 85:\n",
    "            range = 270\n",
    "        message = \"This car can go approximately \" + str(range)\n",
    "        message += \" miles on a full charge.\"\n",
    "        print(message)\n",
    "    \n",
    "    \n",
    "    def upgrade(self):\n",
    "        if self.battery_size != 85:\n",
    "            self.battery_size = 85\n",
    "        \n",
    "\n",
    "            \n",
    "class ElectricCar(Car):\n",
    "    def __init__(self, make, model, year):\n",
    "        super().__init__(make, model, year)\n",
    "        self.battery = Battery()\n",
    "\n",
    "    def get_range(self):\n",
    "        if self.battery_size == 70:\n",
    "            range = 240\n",
    "        elif self.battery_size == 85:\n",
    "            range = 270\n",
    "\n",
    "     \n",
    "\n",
    "\n",
    "\n",
    "my_tesla = ElectricCar('tesla', 'model s', 2016)\n",
    "print(my_tesla.get_descriptive_name())\n",
    "my_tesla.battery.describe_battery()\n",
    "my_tesla.battery.get_range()\n",
    "my_tesla.battery.upgrade()\n",
    "my_tesla.battery.get_range()"
   ]
  },
  {
   "cell_type": "code",
   "execution_count": 54,
   "metadata": {},
   "outputs": [
    {
     "name": "stdout",
     "output_type": "stream",
     "text": [
      "pho is a soup restaurant.\n",
      "pho is open.\n"
     ]
    }
   ],
   "source": [
    "# 9-10\n",
    "import restaurant\n",
    "\n",
    "restaurant2 = Restaurant('pho', 'soup')\n",
    "restaurant2.describe_restaurant()\n",
    "restaurant2.open_restaurant()\n"
   ]
  },
  {
   "cell_type": "code",
   "execution_count": 55,
   "metadata": {},
   "outputs": [
    {
     "name": "stdout",
     "output_type": "stream",
     "text": [
      "Wei privileges:\n",
      "['can add post', 'can delete post']\n",
      "Xiao privileges:\n",
      "['can add post', 'can delete post', 'can ban user']\n",
      "kong privileges:\n",
      "['can add post', 'can delete post', 'can ban user']\n"
     ]
    }
   ],
   "source": [
    "# 9-11\n",
    "from admin import admin, Privileges\n",
    "user3 = admin('kong', 'Wu')\n",
    "user3.show_privileges()"
   ]
  },
  {
   "cell_type": "code",
   "execution_count": 74,
   "metadata": {},
   "outputs": [
    {
     "name": "stdout",
     "output_type": "stream",
     "text": [
      "kong privileges:\n",
      "['can add post', 'can delete post', 'can ban user']\n"
     ]
    }
   ],
   "source": [
    "# 9-12\n",
    "import user \n",
    "from amdin_privileges import admin\n",
    "\n",
    "user4 = admin('kong', 'Wu')\n",
    "user4.show_privileges()"
   ]
  },
  {
   "cell_type": "code",
   "execution_count": 76,
   "metadata": {},
   "outputs": [
    {
     "name": "stdout",
     "output_type": "stream",
     "text": [
      "str: string\n",
      "int: integar\n",
      "len: length\n",
      "del: delete\n"
     ]
    }
   ],
   "source": [
    "# 9-13\n",
    "from collections import OrderedDict\n",
    "\n",
    "Glossary = OrderedDict()\n",
    "\n",
    "Glossary['str'] = 'string'\n",
    "Glossary['int'] = 'integar'\n",
    "Glossary['len'] = 'length'\n",
    "Glossary['del'] = 'delete'\n",
    "\n",
    "for code, meaning in Glossary.items():\n",
    "    print(code + \": \" + meaning)\n"
   ]
  },
  {
   "cell_type": "code",
   "execution_count": 81,
   "metadata": {},
   "outputs": [
    {
     "name": "stdout",
     "output_type": "stream",
     "text": [
      "10 side die, i = 0, roll_die = 5\n",
      "10 side die, i = 1, roll_die = 10\n",
      "10 side die, i = 2, roll_die = 4\n",
      "10 side die, i = 3, roll_die = 7\n",
      "10 side die, i = 4, roll_die = 5\n",
      "10 side die, i = 5, roll_die = 7\n",
      "10 side die, i = 6, roll_die = 4\n",
      "10 side die, i = 7, roll_die = 8\n",
      "10 side die, i = 8, roll_die = 4\n",
      "10 side die, i = 9, roll_die = 2\n",
      "20 side die, i = 0, roll_die = 12\n",
      "20 side die, i = 1, roll_die = 17\n",
      "20 side die, i = 2, roll_die = 5\n",
      "20 side die, i = 3, roll_die = 18\n",
      "20 side die, i = 4, roll_die = 8\n",
      "20 side die, i = 5, roll_die = 11\n",
      "20 side die, i = 6, roll_die = 19\n",
      "20 side die, i = 7, roll_die = 19\n",
      "20 side die, i = 8, roll_die = 14\n",
      "20 side die, i = 9, roll_die = 1\n"
     ]
    }
   ],
   "source": [
    "from random import randint\n",
    "class Die():\n",
    "    side = 0\n",
    "    def __init__(self, side=6):\n",
    "        self.side = side\n",
    "    def roll_die(self):\n",
    "        return randint(1, self.side)\n",
    "\n",
    "die10 = Die(10)\n",
    "die20 = Die(20)\n",
    "\n",
    "i = 0\n",
    "while i < 10:\n",
    "    print (\"10 side die, i = \" + str(i) + \", roll_die = \" + str(die10.roll_die()))\n",
    "    i += 1\n",
    "    \n",
    "i = 0\n",
    "while i < 10:\n",
    "    print (\"20 side die, i = \" + str(i) + \", roll_die = \" + str(die20.roll_die()))\n",
    "    i += 1\n",
    "    "
   ]
  },
  {
   "cell_type": "code",
   "execution_count": 85,
   "metadata": {},
   "outputs": [
    {
     "name": "stdout",
     "output_type": "stream",
     "text": [
      "In Python you can creat list and dictionary.\n",
      "In python you can define functions.\n",
      "\n",
      "\n",
      "In Python you can creat list and dictionary.\n",
      "In python you can define functions.\n",
      "\n",
      "\n",
      "In Python you can creat list and dictionary.\n",
      "\n",
      "In python you can define functions.\n"
     ]
    }
   ],
   "source": [
    "# 10-1\n",
    "with open('learning.txt') as file_object:\n",
    "    contents = file_object.read()\n",
    "    print(contents)\n",
    "\n",
    "print(\"\\n\")\n",
    "with open('learning.txt') as file_object:\n",
    "    contents = file_object.read()\n",
    "    print(contents.rstrip())\n",
    "    \n",
    "print(\"\\n\")\n",
    "filename = 'learning.txt'\n",
    "with open(filename) as file_object:\n",
    "    for line in file_object:\n",
    "        print(line)\n",
    "    "
   ]
  },
  {
   "cell_type": "code",
   "execution_count": 91,
   "metadata": {},
   "outputs": [
    {
     "name": "stdout",
     "output_type": "stream",
     "text": [
      "In C you can creat list and dictionary.\n",
      "In python you can define functions.\n"
     ]
    }
   ],
   "source": [
    "# 10-2\n",
    "with open('learning.txt') as file_object:\n",
    "    contents = file_object.read()\n",
    "\n",
    "    replaced = contents.replace('Python', 'C')\n",
    "\n",
    "    print(replaced)\n"
   ]
  },
  {
   "cell_type": "code",
   "execution_count": 1,
   "metadata": {},
   "outputs": [
    {
     "name": "stdout",
     "output_type": "stream",
     "text": [
      "Please write down your name: Wei Wang\n",
      "Please write down your name: Xiao Wu\n"
     ]
    }
   ],
   "source": [
    "# 10-3\n",
    "filename = 'guest.txt'\n",
    "with open(filename, 'w') as file_object:\n",
    "    while True:\n",
    "        file_object.write(input(\"Please write down your name: \") + \"\\n\")\n",
    "        file_object.write(input(\"Please write down your name: \"))\n",
    "        break\n",
    "        "
   ]
  },
  {
   "cell_type": "code",
   "execution_count": 2,
   "metadata": {},
   "outputs": [
    {
     "name": "stdout",
     "output_type": "stream",
     "text": [
      "Please write down your name: Wei Wang\n",
      "Hello, Wei Wang\n",
      "Please write down your name: Xiao Wu\n",
      "Hello, Xiao Wu\n"
     ]
    }
   ],
   "source": [
    "# 10-4\n",
    "filename = 'guest_book.txt'\n",
    "with open(filename, 'w') as file_object:\n",
    "    while True:\n",
    "        message = input(\"Please write down your name: \")\n",
    "        file_object.write(message + \"\\n\")\n",
    "        print(\"Hello, \" + message)\n",
    "        message = input(\"Please write down your name: \")\n",
    "        file_object.write(message + \"\\n\")\n",
    "        print(\"Hello, \" + message)\n",
    "        break"
   ]
  },
  {
   "cell_type": "code",
   "execution_count": 3,
   "metadata": {},
   "outputs": [
    {
     "name": "stdout",
     "output_type": "stream",
     "text": [
      "Please write down the reason why you like Python: It's efficient.\n",
      "Please write down the reason why you like Python: It's funny.\n"
     ]
    }
   ],
   "source": [
    "# 10-5\n",
    "filename = 'reason.txt'\n",
    "with open(filename, 'w') as file_object:\n",
    "    while True:\n",
    "        file_object.write(input(\"Please write down the reason why you like Python: \") + \"\\n\")\n",
    "        file_object.write(input(\"Please write down the reason why you like Python: \") + \"\\n\")\n",
    "        break"
   ]
  },
  {
   "cell_type": "code",
   "execution_count": 8,
   "metadata": {},
   "outputs": [
    {
     "name": "stdout",
     "output_type": "stream",
     "text": [
      "Please enter a nunmer: 5\n",
      "Please enter a nunmer one more time: a\n",
      "You need to enter a number.\n"
     ]
    }
   ],
   "source": [
    "# 10-6\n",
    "first_number = input(\"Please enter a nunmer: \")\n",
    "second_number = input(\"Please enter a nunmer one more time: \")\n",
    "try:\n",
    "    summary = int(first_number ) + int(second_number)\n",
    "    print(summary)\n",
    "except ValueError:\n",
    "    print(\"You need to enter a number.\")\n"
   ]
  },
  {
   "cell_type": "code",
   "execution_count": 2,
   "metadata": {},
   "outputs": [
    {
     "name": "stdout",
     "output_type": "stream",
     "text": [
      "Please enter a number: 9\n",
      "Please enter a number one more time: 1\n",
      "10\n",
      "Please enter a number: w\n",
      "Please enter a number one more time: 7\n",
      "You need to enter a number.\n",
      "Please enter a number: 5\n",
      "Please enter a number one more time: 3\n",
      "8\n",
      "Please enter a number: quit\n",
      "Please enter a number one more time: quit\n"
     ]
    }
   ],
   "source": [
    "# 10-7\n",
    "\n",
    "while True:\n",
    "    first_number = input(\"Please enter a number: \")\n",
    "    second_number = input(\"Please enter a number one more time: \")\n",
    "    if first_number == 'quit' or second_number == 'quit':\n",
    "        break\n",
    "    else:\n",
    "        try:\n",
    "            summary = int(first_number ) + int(second_number)\n",
    "            print(summary)\n",
    "        except ValueError:\n",
    "            print(\"You need to enter a number.\")"
   ]
  },
  {
   "cell_type": "code",
   "execution_count": 3,
   "metadata": {},
   "outputs": [
    {
     "name": "stdout",
     "output_type": "stream",
     "text": [
      "Alice\n",
      "Bill\n",
      "Cathy\n",
      "Dan\n",
      "Emma\n",
      "Fannie\n"
     ]
    }
   ],
   "source": [
    "# 10-8\n",
    "filename = 'cats.txt'\n",
    "try:\n",
    "    with open(filename) as file_object:\n",
    "        contents = file_object.read()\n",
    "        print(contents)\n",
    "except FileNotFoundError:\n",
    "    print(\"Sorry, the file\" + filenmae + \" does not exist.\")\n",
    "\n",
    "filename = 'dogs.txt'\n",
    "try:\n",
    "    with open(filename) as file_object:\n",
    "        contents = file_object.read()\n",
    "        print(contents)\n",
    "except FileNotFoundError:\n",
    "    print(\"Sorry, the file\" + filenmae + \" does not exist.\")\n",
    "    \n",
    "filename = 'dogs.txt'\n"
   ]
  },
  {
   "cell_type": "code",
   "execution_count": 7,
   "metadata": {},
   "outputs": [
    {
     "name": "stdout",
     "output_type": "stream",
     "text": [
      "Alice\n",
      "Bill\n",
      "Cathy\n",
      "Sorry, the file dogs.txt does not exist.\n"
     ]
    }
   ],
   "source": [
    "# 10-8\n",
    "filename = 'cats.txt'\n",
    "try:\n",
    "    with open(filename) as file_object:\n",
    "        contents = file_object.read()\n",
    "        print(contents)\n",
    "except FileNotFoundError:\n",
    "    print(\"Sorry, the file\" + filenmae + \" does not exist.\")\n",
    "\n",
    "filename = 'dogs.txt'\n",
    "try:\n",
    "    with open(filename) as file_object:\n",
    "        contents = file_object.read()\n",
    "        print(contents)\n",
    "except FileNotFoundError:\n",
    "    print(\"Sorry, the file \" + filename + \" does not exist.\")\n",
    "    "
   ]
  },
  {
   "cell_type": "code",
   "execution_count": 8,
   "metadata": {},
   "outputs": [
    {
     "name": "stdout",
     "output_type": "stream",
     "text": [
      "Alice\n",
      "Bill\n",
      "Cathy\n"
     ]
    }
   ],
   "source": [
    "# 10-9\n",
    "filename = 'cats.txt'\n",
    "try:\n",
    "    with open(filename) as file_object:\n",
    "        contents = file_object.read()\n",
    "        print(contents)\n",
    "except FileNotFoundError:\n",
    "    print(\"Sorry, the file\" + filenmae + \" does not exist.\")\n",
    "\n",
    "filename = 'dogs.txt'\n",
    "try:\n",
    "    with open(filename) as file_object:\n",
    "        contents = file_object.read()\n",
    "        print(contents)\n",
    "except FileNotFoundError:\n",
    "    pass\n",
    "    "
   ]
  },
  {
   "cell_type": "code",
   "execution_count": 11,
   "metadata": {},
   "outputs": [
    {
     "name": "stdout",
     "output_type": "stream",
     "text": [
      "drama.txt has about 28169 words.\n"
     ]
    }
   ],
   "source": [
    "# 10-10\n",
    "filename = 'drama.txt'\n",
    "try:\n",
    "    with open(filename) as file_object:\n",
    "        contents = file_object.read()\n",
    "\n",
    "except FileNotFoundError:\n",
    "    print(\"Sorry, the file\" + filenmae + \" does not exist.\")\n",
    "\n",
    "else:\n",
    "    words = contents.split()\n",
    "    num_words = len(words)\n",
    "    print(filename + \" has about \" + str(num_words) + \" words.\")\n",
    "    \n",
    "    contents.lower().count('the')"
   ]
  },
  {
   "cell_type": "code",
   "execution_count": 2,
   "metadata": {},
   "outputs": [
    {
     "name": "stdout",
     "output_type": "stream",
     "text": [
      "I know your favorite number! It’s 123!\n"
     ]
    }
   ],
   "source": [
    "# 10-12\n",
    "import json\n",
    "\n",
    "def get_favorate_number():\n",
    "    while True:\n",
    "        str = input(\"Please enter your favorate number: \")\n",
    "        try:\n",
    "            return int(str)\n",
    "        except ValueError:\n",
    "            print(\"That's not an int! Please retry\")\n",
    "\n",
    "def save_favorate_number(number):\n",
    "    filename = 'number10-12.json'\n",
    "    with open(filename, 'w') as f_obj:\n",
    "        json.dump(number, f_obj)\n",
    "\n",
    "def load_favorate_number():\n",
    "    try:\n",
    "        filename = 'number10-12.json'\n",
    "        with open(filename, 'r') as f_obj:\n",
    "            saved_number = json.load(f_obj)\n",
    "        return saved_number\n",
    "    except:\n",
    "        number = get_favorate_number()\n",
    "        save_favorate_number(number)\n",
    "        return number\n",
    "    \n",
    "\n",
    "\n",
    "print(\"I know your favorite number! It’s \" + str(load_favorate_number()) + \"!\")"
   ]
  },
  {
   "cell_type": "code",
   "execution_count": 3,
   "metadata": {},
   "outputs": [
    {
     "name": "stdout",
     "output_type": "stream",
     "text": [
      "Please enter your favorate number: sdfsf\n",
      "That's not an int! Please retry\n",
      "Please enter your favorate number: safs\n",
      "That's not an int! Please retry\n",
      "Please enter your favorate number: 123\n",
      "I know your favorite number! It’s 123!\n"
     ]
    }
   ],
   "source": [
    "# 10-11\n",
    "import json\n",
    "def get_favorate_number():\n",
    "    while True:\n",
    "        str = input(\"Please enter your favorate number: \")\n",
    "        try:\n",
    "            return int(str)\n",
    "        except ValueError:\n",
    "            print(\"That's not an int! Please retry\")\n",
    "\n",
    "def save_favorate_number(number):\n",
    "    filename = 'number.json'\n",
    "    with open(filename, 'w') as f_obj:\n",
    "        json.dump(number, f_obj)\n",
    "\n",
    "def load_favorate_number():\n",
    "    filename = 'number.json'\n",
    "    with open(filename, 'r') as f_obj:\n",
    "        saved_number = json.load(f_obj)\n",
    "    return saved_number\n",
    "\n",
    "    \n",
    "number = get_favorate_number()\n",
    "save_favorate_number(number)\n",
    "number = load_favorate_number()\n",
    "\n",
    "print(\"I know your favorite number! It’s \" + str(load_favorate_number()) + \"!\")\n",
    "\n"
   ]
  },
  {
   "cell_type": "code",
   "execution_count": 12,
   "metadata": {},
   "outputs": [
    {
     "name": "stdout",
     "output_type": "stream",
     "text": [
      "What is your name? Wei Wang\n",
      "Please enter your favorate number: sfsf\n",
      "That's not an int! Please retry\n",
      "Please enter your favorate number: 123\n",
      "We will remember your fav number next time, 123!\n"
     ]
    }
   ],
   "source": [
    "#10-13\n",
    "\n",
    "import json\n",
    "\n",
    "def get_stored_username():\n",
    "    \"\"\"Get stored username if available.\"\"\"\n",
    "    filename = 'username11-13.json'\n",
    "    try:\n",
    "        with open(filename) as f_obj:\n",
    "            username = json.load(f_obj)\n",
    "    except FileNotFoundError:\n",
    "        return None\n",
    "    else:\n",
    "        return username\n",
    "        \n",
    "def get_new_username():\n",
    "    \"\"\"Prompt for a new username.\"\"\"\n",
    "    username = input(\"What is your name? \")\n",
    "    filename = 'username11-13.json'\n",
    "    with open(filename, 'w') as f_obj:\n",
    "        json.dump(username, f_obj)\n",
    "    return username\n",
    "\n",
    "def greet_user():\n",
    "    \"\"\"Greet the user by name.\"\"\"\n",
    "    username = get_stored_username()\n",
    "    if username:\n",
    "        print(\"Welcome back, \" + username + \"!\")\n",
    "    else:\n",
    "        username = get_new_username()\n",
    "\n",
    "def get_favorate_number():\n",
    "    while True:\n",
    "        str = input(\"Please enter your favorate number: \")\n",
    "        try:\n",
    "            return int(str)\n",
    "        except ValueError:\n",
    "            print(\"That's not an int! Please retry\")\n",
    "\n",
    "def save_favorate_number(number):\n",
    "    filename = 'number10-13.json'\n",
    "    with open(filename, 'w') as f_obj:\n",
    "        json.dump(number, f_obj)\n",
    "\n",
    "def load_favorate_number():\n",
    "    filename = 'number10-13.json'\n",
    "    with open(filename, 'r') as f_obj:\n",
    "        saved_number = json.load(f_obj)\n",
    "    return saved_number\n",
    "\n",
    "saved_username = get_stored_username()\n",
    "username = get_new_username()\n",
    "if saved_username == username:\n",
    "    greet_user()\n",
    "    print(\"We remember your fav number, \" + str(load_favorate_number()) + \"!\")\n",
    "else: \n",
    "    number = get_favorate_number()\n",
    "    save_favorate_number(number)\n",
    "    print(\"We will remember your fav number next time, \" + username + \"!\")\n",
    "\n",
    "    "
   ]
  },
  {
   "cell_type": "code",
   "execution_count": null,
   "metadata": {},
   "outputs": [],
   "source": []
  },
  {
   "cell_type": "code",
   "execution_count": null,
   "metadata": {},
   "outputs": [],
   "source": []
  }
 ],
 "metadata": {
  "kernelspec": {
   "display_name": "Python 3",
   "language": "python",
   "name": "python3"
  },
  "language_info": {
   "codemirror_mode": {
    "name": "ipython",
    "version": 3
   },
   "file_extension": ".py",
   "mimetype": "text/x-python",
   "name": "python",
   "nbconvert_exporter": "python",
   "pygments_lexer": "ipython3",
   "version": "3.7.0"
  }
 },
 "nbformat": 4,
 "nbformat_minor": 2
}
